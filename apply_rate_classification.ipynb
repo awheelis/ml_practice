{
 "cells": [
  {
   "cell_type": "code",
   "execution_count": 85,
   "metadata": {},
   "outputs": [],
   "source": [
    "import datetime\n",
    "from tqdm import tqdm\n",
    "\n",
    "import pandas as pd\n",
    "import numpy as np\n",
    "import matplotlib.pyplot as plt\n",
    "\n",
    "from sklearn.preprocessing import MinMaxScaler\n",
    "from sklearn.ensemble import RandomForestClassifier\n",
    "from sklearn.model_selection import train_test_split\n",
    "\n",
    "from sklearn.dummy import DummyClassifier\n",
    "from sklearn.metrics import accuracy_score\n",
    "\n",
    "from sklearn.cluster import KMeans\n",
    "from sklearn.metrics import silhouette_score\n",
    "\n",
    "from sklearn.decomposition import PCA\n",
    "\n",
    "%matplotlib inline"
   ]
  },
  {
   "cell_type": "code",
   "execution_count": 48,
   "metadata": {},
   "outputs": [],
   "source": [
    "data = pd.read_csv(\"apply_rate.csv\")"
   ]
  },
  {
   "cell_type": "code",
   "execution_count": 49,
   "metadata": {},
   "outputs": [
    {
     "data": {
      "text/html": [
       "<div>\n",
       "<style scoped>\n",
       "    .dataframe tbody tr th:only-of-type {\n",
       "        vertical-align: middle;\n",
       "    }\n",
       "\n",
       "    .dataframe tbody tr th {\n",
       "        vertical-align: top;\n",
       "    }\n",
       "\n",
       "    .dataframe thead th {\n",
       "        text-align: right;\n",
       "    }\n",
       "</style>\n",
       "<table border=\"1\" class=\"dataframe\">\n",
       "  <thead>\n",
       "    <tr style=\"text-align: right;\">\n",
       "      <th></th>\n",
       "      <th>title_proximity_tfidf</th>\n",
       "      <th>description_proximity_tfidf</th>\n",
       "      <th>main_query_tfidf</th>\n",
       "      <th>query_jl_score</th>\n",
       "      <th>query_title_score</th>\n",
       "      <th>city_match</th>\n",
       "      <th>job_age_days</th>\n",
       "      <th>apply</th>\n",
       "      <th>search_date_pacific</th>\n",
       "      <th>class_id</th>\n",
       "    </tr>\n",
       "  </thead>\n",
       "  <tbody>\n",
       "    <tr>\n",
       "      <th>0</th>\n",
       "      <td>0.000000</td>\n",
       "      <td>0.000000</td>\n",
       "      <td>0.000000</td>\n",
       "      <td>0.004824</td>\n",
       "      <td>0.006628</td>\n",
       "      <td>0.0</td>\n",
       "      <td>5.0</td>\n",
       "      <td>0</td>\n",
       "      <td>17552</td>\n",
       "      <td>-7613806991329176388</td>\n",
       "    </tr>\n",
       "    <tr>\n",
       "      <th>1</th>\n",
       "      <td>11.874042</td>\n",
       "      <td>0.043637</td>\n",
       "      <td>2.527080</td>\n",
       "      <td>0.011935</td>\n",
       "      <td>0.011208</td>\n",
       "      <td>0.0</td>\n",
       "      <td>5.0</td>\n",
       "      <td>0</td>\n",
       "      <td>17552</td>\n",
       "      <td>-1361819269400927213</td>\n",
       "    </tr>\n",
       "    <tr>\n",
       "      <th>2</th>\n",
       "      <td>11.874042</td>\n",
       "      <td>0.043637</td>\n",
       "      <td>2.527080</td>\n",
       "      <td>0.011935</td>\n",
       "      <td>0.011208</td>\n",
       "      <td>0.0</td>\n",
       "      <td>5.0</td>\n",
       "      <td>1</td>\n",
       "      <td>17552</td>\n",
       "      <td>-1361819269400927213</td>\n",
       "    </tr>\n",
       "    <tr>\n",
       "      <th>3</th>\n",
       "      <td>0.000000</td>\n",
       "      <td>0.000000</td>\n",
       "      <td>3.695809</td>\n",
       "      <td>0.013046</td>\n",
       "      <td>0.033340</td>\n",
       "      <td>0.0</td>\n",
       "      <td>5.0</td>\n",
       "      <td>0</td>\n",
       "      <td>17554</td>\n",
       "      <td>-3623880078591607667</td>\n",
       "    </tr>\n",
       "    <tr>\n",
       "      <th>4</th>\n",
       "      <td>0.000000</td>\n",
       "      <td>0.000000</td>\n",
       "      <td>7.868900</td>\n",
       "      <td>0.008065</td>\n",
       "      <td>0.008772</td>\n",
       "      <td>0.0</td>\n",
       "      <td>7.0</td>\n",
       "      <td>0</td>\n",
       "      <td>17555</td>\n",
       "      <td>-7054510112423797411</td>\n",
       "    </tr>\n",
       "  </tbody>\n",
       "</table>\n",
       "</div>"
      ],
      "text/plain": [
       "   title_proximity_tfidf  description_proximity_tfidf  main_query_tfidf  \\\n",
       "0               0.000000                     0.000000          0.000000   \n",
       "1              11.874042                     0.043637          2.527080   \n",
       "2              11.874042                     0.043637          2.527080   \n",
       "3               0.000000                     0.000000          3.695809   \n",
       "4               0.000000                     0.000000          7.868900   \n",
       "\n",
       "   query_jl_score  query_title_score  city_match  job_age_days  apply  \\\n",
       "0        0.004824           0.006628         0.0           5.0      0   \n",
       "1        0.011935           0.011208         0.0           5.0      0   \n",
       "2        0.011935           0.011208         0.0           5.0      1   \n",
       "3        0.013046           0.033340         0.0           5.0      0   \n",
       "4        0.008065           0.008772         0.0           7.0      0   \n",
       "\n",
       "   search_date_pacific             class_id  \n",
       "0                17552 -7613806991329176388  \n",
       "1                17552 -1361819269400927213  \n",
       "2                17552 -1361819269400927213  \n",
       "3                17554 -3623880078591607667  \n",
       "4                17555 -7054510112423797411  "
      ]
     },
     "execution_count": 49,
     "metadata": {},
     "output_type": "execute_result"
    }
   ],
   "source": [
    "data[\"title_proximity_tfidf\"] =  data[\"title_proximity_tfidf\"].fillna(data[\"title_proximity_tfidf\"].mode()[0])\n",
    "data[\"description_proximity_tfidf\"] =  data[\"description_proximity_tfidf\"].fillna(data[\"description_proximity_tfidf\"].mode()[0])\n",
    "data[\"city_match\"] = data[\"city_match\"].fillna(data[\"city_match\"].mode()[0])\n",
    "data[\"search_date_pacific\"] = ((pd.to_datetime(data.search_date_pacific) - datetime.datetime(1970,1,1)).dt.days).astype(int)\n",
    "\n",
    "data.head()"
   ]
  },
  {
   "cell_type": "markdown",
   "metadata": {},
   "source": [
    "# Random Forest Classifer (90.8% accuracy) | Dummy (82.9% accuracy)"
   ]
  },
  {
   "cell_type": "code",
   "execution_count": 50,
   "metadata": {
    "scrolled": false
   },
   "outputs": [],
   "source": [
    "scaler = MinMaxScaler()\n",
    "\n",
    "data = pd.DataFrame(data = scaler.fit_transform(data), columns = data.columns)"
   ]
  },
  {
   "cell_type": "code",
   "execution_count": 52,
   "metadata": {},
   "outputs": [],
   "source": [
    "X = data.iloc[:, :-3]\n",
    "y = data.iloc[:, -3]"
   ]
  },
  {
   "cell_type": "code",
   "execution_count": 56,
   "metadata": {},
   "outputs": [],
   "source": [
    "X_train, X_test, y_train, y_test= train_test_split(X, y)"
   ]
  },
  {
   "cell_type": "code",
   "execution_count": 73,
   "metadata": {},
   "outputs": [
    {
     "data": {
      "text/plain": [
       "0.9078841512469831"
      ]
     },
     "execution_count": 73,
     "metadata": {},
     "output_type": "execute_result"
    }
   ],
   "source": [
    "rand_clf = RandomForestClassifier(n_estimators = 100, max_depth = 7,\n",
    "                                  random_state = 42, n_jobs = -1)\n",
    "rand_clf.fit(X_train, y_train)\n",
    "accuracy_score(y_test, rand_clf.predict(X_test))"
   ]
  },
  {
   "cell_type": "code",
   "execution_count": 63,
   "metadata": {},
   "outputs": [
    {
     "name": "stdout",
     "output_type": "stream",
     "text": [
      "0.8295789755966747\n"
     ]
    }
   ],
   "source": [
    "# dummy classifer\n",
    "dumb = DummyClassifier()\n",
    "dumb.fit(X_train, y_train)\n",
    "pred = dumb.predict(X_test)\n",
    "acc = accuracy_score(y_test, pred)\n",
    "print(acc)"
   ]
  },
  {
   "cell_type": "markdown",
   "metadata": {},
   "source": [
    "# Clustering"
   ]
  },
  {
   "cell_type": "code",
   "execution_count": 80,
   "metadata": {},
   "outputs": [
    {
     "name": "stderr",
     "output_type": "stream",
     "text": [
      "100%|██████████████████████████████████████████████████████████████████████████████████| 13/13 [02:10<00:00, 10.03s/it]\n"
     ]
    }
   ],
   "source": [
    "sil_score = []\n",
    "for i in tqdm(range(2,15)):\n",
    "    kmean = KMeans(n_clusters=i)\n",
    "    pred = kmean.fit_predict(X)\n",
    "    sil_score.append([i, silhouette_score(X, pred)])\n"
   ]
  },
  {
   "cell_type": "code",
   "execution_count": 82,
   "metadata": {},
   "outputs": [
    {
     "data": {
      "text/plain": [
       "Text(0.5, 1.0, 'Silhoette Score')"
      ]
     },
     "execution_count": 82,
     "metadata": {},
     "output_type": "execute_result"
    },
    {
     "data": {
      "image/png": "[encoded data removed]",
      "text/plain": [
       "<Figure size 432x288 with 1 Axes>"
      ]
     },
     "metadata": {
      "needs_background": "light"
     },
     "output_type": "display_data"
    }
   ],
   "source": [
    "sil_score = np.array(sil_score)\n",
    "plt.plot(sil_score[:, 0], sil_score[:, 1])\n",
    "plt.title(\"Silhoette Score\")"
   ]
  },
  {
   "cell_type": "code",
   "execution_count": 83,
   "metadata": {},
   "outputs": [],
   "source": [
    "# this is very good. The highest clustering is a cluster of 2. This means that the data can indeed be classified as \n",
    "#   a binary value. \n",
    "\n",
    "# the next step is to use dim reduction to try and graph the points"
   ]
  },
  {
   "cell_type": "code",
   "execution_count": null,
   "metadata": {},
   "outputs": [],
   "source": [
    "\"\"\"\n",
    "test of kmeans clustsers \n",
    "\n",
    "\n",
    "\"\"\""
   ]
  },
  {
   "cell_type": "code",
   "execution_count": 135,
   "metadata": {},
   "outputs": [],
   "source": [
    "kmean = KMeans(n_clusters=2)\n",
    "pred = kmean.fit_predict(X)"
   ]
  },
  {
   "cell_type": "code",
   "execution_count": 136,
   "metadata": {},
   "outputs": [
    {
     "data": {
      "text/plain": [
       "0.6296681193429433"
      ]
     },
     "execution_count": 136,
     "metadata": {},
     "output_type": "execute_result"
    }
   ],
   "source": [
    "accuracy_score(pred, y)"
   ]
  },
  {
   "cell_type": "code",
   "execution_count": 116,
   "metadata": {},
   "outputs": [],
   "source": [
    "\n",
    "pca = PCA(n_components = .90)\n",
    "pca_data = pca.fit_transform(X)"
   ]
  },
  {
   "cell_type": "code",
   "execution_count": 120,
   "metadata": {},
   "outputs": [
    {
     "name": "stdout",
     "output_type": "stream",
     "text": [
      "PCA with n_clusters = 2 prediction\n"
     ]
    },
    {
     "data": {
      "image/png": "[encoded data removed]",
      "text/plain": [
       "<Figure size 432x288 with 1 Axes>"
      ]
     },
     "metadata": {
      "needs_background": "light"
     },
     "output_type": "display_data"
    },
    {
     "name": "stdout",
     "output_type": "stream",
     "text": [
      "PCA with real labels\n"
     ]
    },
    {
     "data": {
      "image/png": "[encoded data removed]",
      "text/plain": [
       "<Figure size 432x288 with 1 Axes>"
      ]
     },
     "metadata": {
      "needs_background": "light"
     },
     "output_type": "display_data"
    },
    {
     "name": "stdout",
     "output_type": "stream",
     "text": [
      "clustering is inaccurate\n"
     ]
    }
   ],
   "source": [
    "print(\"PCA with n_clusters = 2 prediction\")\n",
    "plt.scatter(pca_data[:,0], pca_data[:,1], c = pred)\n",
    "plt.show()\n",
    "print(\"PCA with real labels\")\n",
    "plt.scatter(pca_data[:,0], pca_data[:,1], c = y)\n",
    "plt.show()\n",
    "\n",
    "\n",
    "\n",
    "print(\"clustering is inaccurate\")"
   ]
  },
  {
   "cell_type": "code",
   "execution_count": 121,
   "metadata": {},
   "outputs": [],
   "source": [
    "# trying rbf pca\n",
    "from sklearn.decomposition import KernelPCA\n",
    "\n",
    "rbf_pca = KernelPCA(n_components = 2, kernel='rbf', gamma = 0.04)\n",
    "rbf_X = rbf_pca.fit_transform(X)"
   ]
  },
  {
   "cell_type": "code",
   "execution_count": null,
   "metadata": {},
   "outputs": [],
   "source": []
  },
  {
   "cell_type": "code",
   "execution_count": 124,
   "metadata": {},
   "outputs": [
    {
     "name": "stdout",
     "output_type": "stream",
     "text": [
      "PCA with n_clusters = 2 prediction\n"
     ]
    },
    {
     "data": {
      "image/png": "[encoded data removed]",
      "text/plain": [
       "<Figure size 432x288 with 1 Axes>"
      ]
     },
     "metadata": {
      "needs_background": "light"
     },
     "output_type": "display_data"
    },
    {
     "name": "stdout",
     "output_type": "stream",
     "text": [
      "PCA with real labels\n"
     ]
    },
    {
     "data": {
      "image/png": "[encoded data removed]",
      "text/plain": [
       "<Figure size 432x288 with 1 Axes>"
      ]
     },
     "metadata": {
      "needs_background": "light"
     },
     "output_type": "display_data"
    },
    {
     "name": "stdout",
     "output_type": "stream",
     "text": [
      "clustering is inaccurate\n"
     ]
    }
   ],
   "source": [
    "print(\"PCA with n_clusters = 2 prediction\")\n",
    "plt.scatter(rbf_X[:,0], rbf_X[:,1], c = pred)\n",
    "plt.show()\n",
    "\n",
    "print(\"PCA with real labels\")\n",
    "plt.scatter(rbf_X[:,0], rbf_X[:,1], c = y)\n",
    "plt.show()\n",
    "\n",
    "print(\"clustering is inaccurate\")\n",
    "\n"
   ]
  },
  {
   "cell_type": "code",
   "execution_count": 127,
   "metadata": {},
   "outputs": [],
   "source": [
    "# trying rbf pca\n",
    "from sklearn.decomposition import KernelPCA\n",
    "\n",
    "sigmoid_pca = KernelPCA(n_components = 2, kernel='sigmoid', gamma = 0.04)\n",
    "sig_X = sigmoid_pca.fit_transform(X)"
   ]
  },
  {
   "cell_type": "code",
   "execution_count": 129,
   "metadata": {
    "scrolled": false
   },
   "outputs": [
    {
     "name": "stdout",
     "output_type": "stream",
     "text": [
      "PCA with n_clusters = 2 prediction\n"
     ]
    },
    {
     "data": {
      "image/png": "[encoded data removed]",
      "text/plain": [
       "<Figure size 432x288 with 1 Axes>"
      ]
     },
     "metadata": {
      "needs_background": "light"
     },
     "output_type": "display_data"
    },
    {
     "name": "stdout",
     "output_type": "stream",
     "text": [
      "PCA with real labels\n"
     ]
    },
    {
     "data": {
      "image/png": "[encoded data removed]",
      "text/plain": [
       "<Figure size 432x288 with 1 Axes>"
      ]
     },
     "metadata": {
      "needs_background": "light"
     },
     "output_type": "display_data"
    },
    {
     "name": "stdout",
     "output_type": "stream",
     "text": [
      "clustering is inaccurate\n"
     ]
    }
   ],
   "source": [
    "print(\"PCA with n_clusters = 2 prediction\")\n",
    "plt.scatter(sig_X[:,0], sig_X[:,1], c = pred)\n",
    "plt.show()\n",
    "\n",
    "print(\"PCA with real labels\")\n",
    "plt.scatter(sig_X[:,0], sig_X[:,1], c = y)\n",
    "plt.show()\n",
    "\n",
    "print(\"clustering is inaccurate\")\n",
    "\n"
   ]
  },
  {
   "cell_type": "code",
   "execution_count": 131,
   "metadata": {},
   "outputs": [],
   "source": [
    "from sklearn.manifold import LocallyLinearEmbedding\n",
    "\n",
    "lle = LocallyLinearEmbedding(n_components=2, n_neighbors=10)\n",
    "lle_X = lle.fit_transform(X)\n"
   ]
  },
  {
   "cell_type": "code",
   "execution_count": 139,
   "metadata": {
    "scrolled": false
   },
   "outputs": [
    {
     "name": "stdout",
     "output_type": "stream",
     "text": [
      "LLE with n_clusters = 2 prediction\n"
     ]
    },
    {
     "data": {
      "image/png": "[encoded data removed]",
      "text/plain": [
       "<Figure size 432x288 with 1 Axes>"
      ]
     },
     "metadata": {
      "needs_background": "light"
     },
     "output_type": "display_data"
    },
    {
     "name": "stdout",
     "output_type": "stream",
     "text": [
      "PCA with real labels\n"
     ]
    },
    {
     "data": {
      "image/png": "[encoded data removed]",
      "text/plain": [
       "<Figure size 432x288 with 1 Axes>"
      ]
     },
     "metadata": {
      "needs_background": "light"
     },
     "output_type": "display_data"
    }
   ],
   "source": [
    "print(\"LLE with n_clusters = 2 prediction\")\n",
    "plt.scatter(lle_X[:,0], lle_X[:,1], c = pred)\n",
    "plt.show()\n",
    "\n",
    "print(\"PCA with real labels\")\n",
    "plt.scatter(lle_X[:,0], lle_X[:,1], c = y)\n",
    "plt.show()\n"
   ]
  },
  {
   "cell_type": "code",
   "execution_count": 143,
   "metadata": {},
   "outputs": [],
   "source": [
    "from sklearn.mixture import GaussianMixture\n",
    "\n",
    "gm = GaussianMixture(n_components=2, n_init = 10)\n",
    "gm.fit(X)\n",
    "\n",
    "pred = gm.predict(X)"
   ]
  },
  {
   "cell_type": "code",
   "execution_count": 147,
   "metadata": {},
   "outputs": [
    {
     "data": {
      "text/plain": [
       "0.6296681193429433"
      ]
     },
     "execution_count": 147,
     "metadata": {},
     "output_type": "execute_result"
    }
   ],
   "source": [
    "accuracy_score(pred==0, y)"
   ]
  },
  {
   "cell_type": "code",
   "execution_count": 148,
   "metadata": {},
   "outputs": [
    {
     "name": "stdout",
     "output_type": "stream",
     "text": [
      "GMM with n_clusters = 2 prediction\n"
     ]
    },
    {
     "data": {
      "image/png": "[encoded data removed]",
      "text/plain": [
       "<Figure size 432x288 with 1 Axes>"
      ]
     },
     "metadata": {
      "needs_background": "light"
     },
     "output_type": "display_data"
    },
    {
     "name": "stdout",
     "output_type": "stream",
     "text": [
      "PCA with real labels\n"
     ]
    },
    {
     "data": {
      "image/png": "[encoded data removed]",
      "text/plain": [
       "<Figure size 432x288 with 1 Axes>"
      ]
     },
     "metadata": {
      "needs_background": "light"
     },
     "output_type": "display_data"
    }
   ],
   "source": [
    "\n",
    "print(\"GMM with n_clusters = 2 prediction\")\n",
    "plt.scatter(lle_X[:,0], lle_X[:,1], c = pred==0)\n",
    "plt.show()\n",
    "\n",
    "print(\"PCA with real labels\")\n",
    "plt.scatter(lle_X[:,0], lle_X[:,1], c = y)\n",
    "plt.show()\n"
   ]
  },
  {
   "cell_type": "code",
   "execution_count": 149,
   "metadata": {},
   "outputs": [
    {
     "data": {
      "text/plain": [
       "array([0.09, 0.26, 0.04, 0.15, 0.04, 0.07, 0.08, 0.08, 0.17, 0.03])"
      ]
     },
     "execution_count": 149,
     "metadata": {},
     "output_type": "execute_result"
    }
   ],
   "source": [
    "from sklearn.mixture import BayesianGaussianMixture\n",
    "\n",
    "bgm = BayesianGaussianMixture(n_components=10, n_init = 10)\n",
    "bgm.fit(X)\n",
    "np.round(bgm.weights_, 2)"
   ]
  },
  {
   "cell_type": "markdown",
   "metadata": {},
   "source": [
    "# 1) test different decomposition/dim reduction algorithms\n",
    "# 2) look at different clustering\n",
    "# 3) try to get >96% for classification"
   ]
  },
  {
   "cell_type": "code",
   "execution_count": 103,
   "metadata": {},
   "outputs": [
    {
     "data": {
      "text/html": [
       "<div>\n",
       "<style scoped>\n",
       "    .dataframe tbody tr th:only-of-type {\n",
       "        vertical-align: middle;\n",
       "    }\n",
       "\n",
       "    .dataframe tbody tr th {\n",
       "        vertical-align: top;\n",
       "    }\n",
       "\n",
       "    .dataframe thead th {\n",
       "        text-align: right;\n",
       "    }\n",
       "</style>\n",
       "<table border=\"1\" class=\"dataframe\">\n",
       "  <thead>\n",
       "    <tr style=\"text-align: right;\">\n",
       "      <th></th>\n",
       "      <th>title_proximity_tfidf</th>\n",
       "      <th>description_proximity_tfidf</th>\n",
       "      <th>main_query_tfidf</th>\n",
       "      <th>query_jl_score</th>\n",
       "      <th>query_title_score</th>\n",
       "      <th>city_match</th>\n",
       "      <th>job_age_days</th>\n",
       "      <th>apply</th>\n",
       "      <th>search_date_pacific</th>\n",
       "      <th>class_id</th>\n",
       "    </tr>\n",
       "  </thead>\n",
       "  <tbody>\n",
       "    <tr>\n",
       "      <th>title_proximity_tfidf</th>\n",
       "      <td>1.000000</td>\n",
       "      <td>0.135840</td>\n",
       "      <td>0.646685</td>\n",
       "      <td>0.173449</td>\n",
       "      <td>0.351856</td>\n",
       "      <td>0.019365</td>\n",
       "      <td>0.042360</td>\n",
       "      <td>0.055367</td>\n",
       "      <td>-0.000342</td>\n",
       "      <td>0.021794</td>\n",
       "    </tr>\n",
       "    <tr>\n",
       "      <th>description_proximity_tfidf</th>\n",
       "      <td>0.135840</td>\n",
       "      <td>1.000000</td>\n",
       "      <td>0.043563</td>\n",
       "      <td>0.079461</td>\n",
       "      <td>0.019241</td>\n",
       "      <td>0.016516</td>\n",
       "      <td>0.017815</td>\n",
       "      <td>0.002830</td>\n",
       "      <td>-0.007289</td>\n",
       "      <td>-0.000072</td>\n",
       "    </tr>\n",
       "    <tr>\n",
       "      <th>main_query_tfidf</th>\n",
       "      <td>0.646685</td>\n",
       "      <td>0.043563</td>\n",
       "      <td>1.000000</td>\n",
       "      <td>0.009440</td>\n",
       "      <td>0.201044</td>\n",
       "      <td>0.052035</td>\n",
       "      <td>0.079974</td>\n",
       "      <td>0.033191</td>\n",
       "      <td>-0.009995</td>\n",
       "      <td>0.014454</td>\n",
       "    </tr>\n",
       "    <tr>\n",
       "      <th>query_jl_score</th>\n",
       "      <td>0.173449</td>\n",
       "      <td>0.079461</td>\n",
       "      <td>0.009440</td>\n",
       "      <td>1.000000</td>\n",
       "      <td>0.394934</td>\n",
       "      <td>0.047922</td>\n",
       "      <td>0.012220</td>\n",
       "      <td>0.056444</td>\n",
       "      <td>0.043847</td>\n",
       "      <td>0.084859</td>\n",
       "    </tr>\n",
       "    <tr>\n",
       "      <th>query_title_score</th>\n",
       "      <td>0.351856</td>\n",
       "      <td>0.019241</td>\n",
       "      <td>0.201044</td>\n",
       "      <td>0.394934</td>\n",
       "      <td>1.000000</td>\n",
       "      <td>0.046757</td>\n",
       "      <td>0.015471</td>\n",
       "      <td>0.065150</td>\n",
       "      <td>0.066264</td>\n",
       "      <td>0.065052</td>\n",
       "    </tr>\n",
       "    <tr>\n",
       "      <th>city_match</th>\n",
       "      <td>0.019365</td>\n",
       "      <td>0.016516</td>\n",
       "      <td>0.052035</td>\n",
       "      <td>0.047922</td>\n",
       "      <td>0.046757</td>\n",
       "      <td>1.000000</td>\n",
       "      <td>0.009207</td>\n",
       "      <td>-0.001142</td>\n",
       "      <td>-0.005805</td>\n",
       "      <td>0.015353</td>\n",
       "    </tr>\n",
       "    <tr>\n",
       "      <th>job_age_days</th>\n",
       "      <td>0.042360</td>\n",
       "      <td>0.017815</td>\n",
       "      <td>0.079974</td>\n",
       "      <td>0.012220</td>\n",
       "      <td>0.015471</td>\n",
       "      <td>0.009207</td>\n",
       "      <td>1.000000</td>\n",
       "      <td>-0.018220</td>\n",
       "      <td>-0.041487</td>\n",
       "      <td>-0.001142</td>\n",
       "    </tr>\n",
       "    <tr>\n",
       "      <th>apply</th>\n",
       "      <td>0.055367</td>\n",
       "      <td>0.002830</td>\n",
       "      <td>0.033191</td>\n",
       "      <td>0.056444</td>\n",
       "      <td>0.065150</td>\n",
       "      <td>-0.001142</td>\n",
       "      <td>-0.018220</td>\n",
       "      <td>1.000000</td>\n",
       "      <td>-0.004492</td>\n",
       "      <td>0.015221</td>\n",
       "    </tr>\n",
       "    <tr>\n",
       "      <th>search_date_pacific</th>\n",
       "      <td>-0.000342</td>\n",
       "      <td>-0.007289</td>\n",
       "      <td>-0.009995</td>\n",
       "      <td>0.043847</td>\n",
       "      <td>0.066264</td>\n",
       "      <td>-0.005805</td>\n",
       "      <td>-0.041487</td>\n",
       "      <td>-0.004492</td>\n",
       "      <td>1.000000</td>\n",
       "      <td>0.013159</td>\n",
       "    </tr>\n",
       "    <tr>\n",
       "      <th>class_id</th>\n",
       "      <td>0.021794</td>\n",
       "      <td>-0.000072</td>\n",
       "      <td>0.014454</td>\n",
       "      <td>0.084859</td>\n",
       "      <td>0.065052</td>\n",
       "      <td>0.015353</td>\n",
       "      <td>-0.001142</td>\n",
       "      <td>0.015221</td>\n",
       "      <td>0.013159</td>\n",
       "      <td>1.000000</td>\n",
       "    </tr>\n",
       "  </tbody>\n",
       "</table>\n",
       "</div>"
      ],
      "text/plain": [
       "                             title_proximity_tfidf  \\\n",
       "title_proximity_tfidf                     1.000000   \n",
       "description_proximity_tfidf               0.135840   \n",
       "main_query_tfidf                          0.646685   \n",
       "query_jl_score                            0.173449   \n",
       "query_title_score                         0.351856   \n",
       "city_match                                0.019365   \n",
       "job_age_days                              0.042360   \n",
       "apply                                     0.055367   \n",
       "search_date_pacific                      -0.000342   \n",
       "class_id                                  0.021794   \n",
       "\n",
       "                             description_proximity_tfidf  main_query_tfidf  \\\n",
       "title_proximity_tfidf                           0.135840          0.646685   \n",
       "description_proximity_tfidf                     1.000000          0.043563   \n",
       "main_query_tfidf                                0.043563          1.000000   \n",
       "query_jl_score                                  0.079461          0.009440   \n",
       "query_title_score                               0.019241          0.201044   \n",
       "city_match                                      0.016516          0.052035   \n",
       "job_age_days                                    0.017815          0.079974   \n",
       "apply                                           0.002830          0.033191   \n",
       "search_date_pacific                            -0.007289         -0.009995   \n",
       "class_id                                       -0.000072          0.014454   \n",
       "\n",
       "                             query_jl_score  query_title_score  city_match  \\\n",
       "title_proximity_tfidf              0.173449           0.351856    0.019365   \n",
       "description_proximity_tfidf        0.079461           0.019241    0.016516   \n",
       "main_query_tfidf                   0.009440           0.201044    0.052035   \n",
       "query_jl_score                     1.000000           0.394934    0.047922   \n",
       "query_title_score                  0.394934           1.000000    0.046757   \n",
       "city_match                         0.047922           0.046757    1.000000   \n",
       "job_age_days                       0.012220           0.015471    0.009207   \n",
       "apply                              0.056444           0.065150   -0.001142   \n",
       "search_date_pacific                0.043847           0.066264   -0.005805   \n",
       "class_id                           0.084859           0.065052    0.015353   \n",
       "\n",
       "                             job_age_days     apply  search_date_pacific  \\\n",
       "title_proximity_tfidf            0.042360  0.055367            -0.000342   \n",
       "description_proximity_tfidf      0.017815  0.002830            -0.007289   \n",
       "main_query_tfidf                 0.079974  0.033191            -0.009995   \n",
       "query_jl_score                   0.012220  0.056444             0.043847   \n",
       "query_title_score                0.015471  0.065150             0.066264   \n",
       "city_match                       0.009207 -0.001142            -0.005805   \n",
       "job_age_days                     1.000000 -0.018220            -0.041487   \n",
       "apply                           -0.018220  1.000000            -0.004492   \n",
       "search_date_pacific             -0.041487 -0.004492             1.000000   \n",
       "class_id                        -0.001142  0.015221             0.013159   \n",
       "\n",
       "                             class_id  \n",
       "title_proximity_tfidf        0.021794  \n",
       "description_proximity_tfidf -0.000072  \n",
       "main_query_tfidf             0.014454  \n",
       "query_jl_score               0.084859  \n",
       "query_title_score            0.065052  \n",
       "city_match                   0.015353  \n",
       "job_age_days                -0.001142  \n",
       "apply                        0.015221  \n",
       "search_date_pacific          0.013159  \n",
       "class_id                     1.000000  "
      ]
     },
     "execution_count": 103,
     "metadata": {},
     "output_type": "execute_result"
    }
   ],
   "source": []
  },
  {
   "cell_type": "code",
   "execution_count": null,
   "metadata": {},
   "outputs": [],
   "source": []
  }
 ],
 "metadata": {
  "kernelspec": {
   "display_name": "Python 3",
   "language": "python",
   "name": "python3"
  },
  "language_info": {
   "codemirror_mode": {
    "name": "ipython",
    "version": 3
   },
   "file_extension": ".py",
   "mimetype": "text/x-python",
   "name": "python",
   "nbconvert_exporter": "python",
   "pygments_lexer": "ipython3",
   "version": "3.7.7"
  }
 },
 "nbformat": 4,
 "nbformat_minor": 4
}
