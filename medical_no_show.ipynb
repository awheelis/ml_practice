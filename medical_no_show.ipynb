{
 "cells": [
  {
   "cell_type": "code",
   "execution_count": 1,
   "metadata": {},
   "outputs": [],
   "source": [
    "import pandas as pd\n",
    "import numpy as np\n",
    "\n",
    "from sklearn.model_selection import train_test_split\n",
    "from sklearn.ensemble import RandomForestClassifier\n",
    "from sklearn.ensemble import VotingClassifier\n",
    "from sklearn.svm import SVC\n",
    "from sklearn.ensemble import AdaBoostClassifier\n",
    "from sklearn.tree import DecisionTreeClassifier\n",
    "\n",
    "from sklearn.metrics import accuracy_score as acc\n",
    "from sklearn.metrics import mean_squared_error as mse"
   ]
  },
  {
   "cell_type": "code",
   "execution_count": 2,
   "metadata": {},
   "outputs": [],
   "source": [
    "def to_seconds(X):\n",
    "    return X.hour * 3600 + X.minute * 60 + X.second"
   ]
  },
  {
   "cell_type": "code",
   "execution_count": 40,
   "metadata": {},
   "outputs": [],
   "source": [
    "data = pd.read_csv(\"medical_no_shows.csv\")\n",
    "data[\"No-show\"] = data[\"No-show\"] == 'Yes'\n",
    "data[\"No-show\"] = y.astype(int)"
   ]
  },
  {
   "cell_type": "code",
   "execution_count": 4,
   "metadata": {},
   "outputs": [],
   "source": [
    "X = data.drop(columns = ['PatientId','No-show','AppointmentID'])\n",
    "X[\"Gender\"] = X[\"Gender\"] == \"M\"\n",
    "X[\"Gender\"] = X[\"Gender\"].astype(int)\n",
    "\n",
    "X[\"ScheduledDay\"] = pd.to_datetime(X[\"ScheduledDay\"])\n",
    "X[\"Schedule_Weekday\"] = X[\"ScheduledDay\"].dt.weekday\n",
    "X[\"Schedule_Seconds\"] = X[\"ScheduledDay\"].dt.time.apply(to_seconds)\n",
    "\n",
    "X[\"AppointmentDay\"] = pd.to_datetime(X[\"AppointmentDay\"])\n",
    "X[\"Appointment_Weekday\"] = X[\"AppointmentDay\"].dt.weekday\n",
    "\n",
    "X = pd.concat((X, pd.get_dummies(X[\"Neighbourhood\"])), axis = 1)\n",
    "\n",
    "X = X.drop(columns = ['ScheduledDay', 'AppointmentDay', 'Neighbourhood'])\n",
    "\n",
    "y = data[\"No-show\"] == 'Yes'\n",
    "y = y.astype(int)"
   ]
  },
  {
   "cell_type": "code",
   "execution_count": 35,
   "metadata": {
    "scrolled": true
   },
   "outputs": [
    {
     "name": "stdout",
     "output_type": "stream",
     "text": [
      "PatientId     No-show\n",
      "3.921784e+04  No         1.0\n",
      "4.374176e+04  No         1.0\n",
      "9.377953e+04  No         1.0\n",
      "1.417242e+05  No         1.0\n",
      "5.376153e+05  No         1.0\n",
      "                        ... \n",
      "9.999320e+14  No         1.0\n",
      "9.999350e+14  No         1.0\n",
      "9.999465e+14  No         1.0\n",
      "9.999686e+14  No         1.0\n",
      "9.999816e+14  No         1.0\n",
      "Name: No-show, Length: 71817, dtype: float64\n",
      "AppointmentID  No-show\n",
      "5030230        No         1.0\n",
      "5122866        Yes        1.0\n",
      "5134197        Yes        1.0\n",
      "5134220        No         1.0\n",
      "5134223        No         1.0\n",
      "                         ... \n",
      "5790461        No         1.0\n",
      "5790464        No         1.0\n",
      "5790466        No         1.0\n",
      "5790481        No         1.0\n",
      "5790484        No         1.0\n",
      "Name: No-show, Length: 110527, dtype: float64\n",
      "Gender  No-show\n",
      "F       No         0.796854\n",
      "        Yes        0.203146\n",
      "M       No         0.800321\n",
      "        Yes        0.199679\n",
      "Name: No-show, dtype: float64\n",
      "ScheduledDay          No-show\n",
      "2015-11-10T07:13:56Z  No         1.0\n",
      "2015-12-03T08:17:28Z  Yes        1.0\n",
      "2015-12-07T10:40:59Z  Yes        1.0\n",
      "2015-12-07T10:42:42Z  No         1.0\n",
      "2015-12-07T10:43:01Z  No         1.0\n",
      "                                ... \n",
      "2016-06-08T19:32:25Z  No         1.0\n",
      "2016-06-08T19:32:56Z  No         1.0\n",
      "2016-06-08T19:33:23Z  No         1.0\n",
      "2016-06-08T19:58:52Z  No         1.0\n",
      "2016-06-08T20:07:23Z  No         1.0\n",
      "Name: No-show, Length: 104888, dtype: float64\n",
      "AppointmentDay        No-show\n",
      "2016-04-29T00:00:00Z  No         0.804328\n",
      "                      Yes        0.195672\n",
      "2016-05-02T00:00:00Z  No         0.803245\n",
      "                      Yes        0.196755\n",
      "2016-05-03T00:00:00Z  No         0.804746\n",
      "                      Yes        0.195254\n",
      "2016-05-04T00:00:00Z  No         0.766555\n",
      "                      Yes        0.233445\n",
      "2016-05-05T00:00:00Z  No         0.811140\n",
      "                      Yes        0.188860\n",
      "2016-05-06T00:00:00Z  No         0.795050\n",
      "                      Yes        0.204950\n",
      "2016-05-09T00:00:00Z  No         0.774558\n",
      "                      Yes        0.225442\n",
      "2016-05-10T00:00:00Z  No         0.769731\n",
      "                      Yes        0.230269\n",
      "2016-05-11T00:00:00Z  No         0.802190\n",
      "                      Yes        0.197810\n",
      "2016-05-12T00:00:00Z  No         0.809513\n",
      "                      Yes        0.190487\n",
      "2016-05-13T00:00:00Z  No         0.773012\n",
      "                      Yes        0.226988\n",
      "2016-05-14T00:00:00Z  No         0.769231\n",
      "                      Yes        0.230769\n",
      "2016-05-16T00:00:00Z  No         0.772599\n",
      "                      Yes        0.227401\n",
      "2016-05-17T00:00:00Z  No         0.786139\n",
      "                      Yes        0.213861\n",
      "2016-05-18T00:00:00Z  No         0.796478\n",
      "                      Yes        0.203522\n",
      "2016-05-19T00:00:00Z  No         0.791101\n",
      "                      Yes        0.208899\n",
      "2016-05-20T00:00:00Z  No         0.765152\n",
      "                      Yes        0.234848\n",
      "2016-05-24T00:00:00Z  No         0.797705\n",
      "                      Yes        0.202295\n",
      "2016-05-25T00:00:00Z  No         0.805833\n",
      "                      Yes        0.194167\n",
      "2016-05-30T00:00:00Z  No         0.803279\n",
      "                      Yes        0.196721\n",
      "2016-05-31T00:00:00Z  No         0.820753\n",
      "                      Yes        0.179247\n",
      "2016-06-01T00:00:00Z  No         0.818100\n",
      "                      Yes        0.181900\n",
      "2016-06-02T00:00:00Z  No         0.813921\n",
      "                      Yes        0.186079\n",
      "2016-06-03T00:00:00Z  No         0.803178\n",
      "                      Yes        0.196822\n",
      "2016-06-06T00:00:00Z  No         0.813939\n",
      "                      Yes        0.186061\n",
      "2016-06-07T00:00:00Z  No         0.815217\n",
      "                      Yes        0.184783\n",
      "2016-06-08T00:00:00Z  No         0.827194\n",
      "                      Yes        0.172806\n",
      "Name: No-show, dtype: float64\n",
      "Age   No-show\n",
      "-1    No         1.000000\n",
      " 0    No         0.819441\n",
      "      Yes        0.180559\n",
      " 1    No         0.817422\n",
      "      Yes        0.182578\n",
      "                   ...   \n",
      " 99   No         1.000000\n",
      " 100  No         1.000000\n",
      " 102  No         1.000000\n",
      " 115  Yes        0.600000\n",
      "      No         0.400000\n",
      "Name: No-show, Length: 204, dtype: float64\n",
      "Neighbourhood    No-show\n",
      "AEROPORTO        No         0.875000\n",
      "                 Yes        0.125000\n",
      "ANDORINHAS       No         0.769673\n",
      "                 Yes        0.230327\n",
      "ANTÔNIO HONÓRIO  No         0.815498\n",
      "                              ...   \n",
      "TABUAZEIRO       Yes        0.182950\n",
      "UNIVERSITÁRIO    No         0.789474\n",
      "                 Yes        0.210526\n",
      "VILA RUBIM       No         0.834313\n",
      "                 Yes        0.165687\n",
      "Name: No-show, Length: 160, dtype: float64\n",
      "Scholarship  No-show\n",
      "0            No         0.801928\n",
      "             Yes        0.198072\n",
      "1            No         0.762637\n",
      "             Yes        0.237363\n",
      "Name: No-show, dtype: float64\n",
      "Hipertension  No-show\n",
      "0             No         0.790963\n",
      "              Yes        0.209037\n",
      "1             No         0.826980\n",
      "              Yes        0.173020\n",
      "Name: No-show, dtype: float64\n",
      "Diabetes  No-show\n",
      "0         No         0.796372\n",
      "          Yes        0.203628\n",
      "1         No         0.819967\n",
      "          Yes        0.180033\n",
      "Name: No-show, dtype: float64\n",
      "Alcoholism  No-show\n",
      "0           No         0.798054\n",
      "            Yes        0.201946\n",
      "1           No         0.798512\n",
      "            Yes        0.201488\n",
      "Name: No-show, dtype: float64\n",
      "Handcap  No-show\n",
      "0        No         0.797647\n",
      "         Yes        0.202353\n",
      "1        No         0.820764\n",
      "         Yes        0.179236\n",
      "2        No         0.797814\n",
      "         Yes        0.202186\n",
      "3        No         0.769231\n",
      "         Yes        0.230769\n",
      "4        No         0.666667\n",
      "         Yes        0.333333\n",
      "Name: No-show, dtype: float64\n",
      "SMS_received  No-show\n",
      "0             No         0.832967\n",
      "              Yes        0.167033\n",
      "1             No         0.724255\n",
      "              Yes        0.275745\n",
      "Name: No-show, dtype: float64\n"
     ]
    }
   ],
   "source": [
    "for col in data.drop(columns = 'No-show').columns:\n",
    "    print(data.groupby(col)[\"No-show\"].value_counts(normalize = True))"
   ]
  },
  {
   "cell_type": "code",
   "execution_count": null,
   "metadata": {},
   "outputs": [],
   "source": []
  },
  {
   "cell_type": "code",
   "execution_count": null,
   "metadata": {},
   "outputs": [],
   "source": []
  },
  {
   "cell_type": "code",
   "execution_count": 6,
   "metadata": {},
   "outputs": [],
   "source": [
    "X_train, X_test, y_train, y_test = train_test_split(X, y)"
   ]
  },
  {
   "cell_type": "code",
   "execution_count": 7,
   "metadata": {},
   "outputs": [],
   "source": [
    "\n",
    "rf_clf = RandomForestClassifier(n_estimators = 100, n_jobs = -1, \n",
    "                               max_depth = 5, random_state = 42)\n",
    "# svc = SVC(gamma = 0.1, C = 100)\n",
    "ada_clf = AdaBoostClassifier(DecisionTreeClassifier(max_depth = 1), n_estimators = 100, \n",
    "                             learning_rate = 1, random_state = 42)\n",
    "\n",
    "voting_clf = VotingClassifier(\n",
    "                estimators = [('rf', rf_clf), ('ada', ada_clf)], \n",
    "                voting = 'soft', n_jobs = -1)"
   ]
  },
  {
   "cell_type": "code",
   "execution_count": 8,
   "metadata": {},
   "outputs": [
    {
     "data": {
      "text/plain": [
       "VotingClassifier(estimators=[('rf',\n",
       "                              RandomForestClassifier(bootstrap=True,\n",
       "                                                     ccp_alpha=0.0,\n",
       "                                                     class_weight=None,\n",
       "                                                     criterion='gini',\n",
       "                                                     max_depth=5,\n",
       "                                                     max_features='auto',\n",
       "                                                     max_leaf_nodes=None,\n",
       "                                                     max_samples=None,\n",
       "                                                     min_impurity_decrease=0.0,\n",
       "                                                     min_impurity_split=None,\n",
       "                                                     min_samples_leaf=1,\n",
       "                                                     min_samples_split=2,\n",
       "                                                     min_weight_fraction_leaf=0.0,\n",
       "                                                     n_estimators=100,\n",
       "                                                     n_jobs=-1, oob_score=Fals...\n",
       "                                                                                       criterion='gini',\n",
       "                                                                                       max_depth=1,\n",
       "                                                                                       max_features=None,\n",
       "                                                                                       max_leaf_nodes=None,\n",
       "                                                                                       min_impurity_decrease=0.0,\n",
       "                                                                                       min_impurity_split=None,\n",
       "                                                                                       min_samples_leaf=1,\n",
       "                                                                                       min_samples_split=2,\n",
       "                                                                                       min_weight_fraction_leaf=0.0,\n",
       "                                                                                       presort='deprecated',\n",
       "                                                                                       random_state=None,\n",
       "                                                                                       splitter='best'),\n",
       "                                                 learning_rate=1,\n",
       "                                                 n_estimators=100,\n",
       "                                                 random_state=42))],\n",
       "                 flatten_transform=True, n_jobs=-1, voting='soft',\n",
       "                 weights=None)"
      ]
     },
     "execution_count": 8,
     "metadata": {},
     "output_type": "execute_result"
    }
   ],
   "source": [
    "voting_clf.fit(X_train, y_train)"
   ]
  },
  {
   "cell_type": "code",
   "execution_count": 49,
   "metadata": {},
   "outputs": [
    {
     "name": "stdout",
     "output_type": "stream",
     "text": [
      "\n",
      "Acc: 0.7986754487550666\n",
      "MSE: 0.2013245512449334\n",
      "\n"
     ]
    }
   ],
   "source": [
    "pred = voting_clf.predict(X_test)\n",
    "print(\"\"\"\n",
    "Acc: {}\n",
    "MSE: {}\n",
    "\"\"\".format(acc(y_test, pred), mse(y_test, pred)))"
   ]
  },
  {
   "cell_type": "code",
   "execution_count": 48,
   "metadata": {},
   "outputs": [
    {
     "name": "stdout",
     "output_type": "stream",
     "text": [
      "\n",
      "Acc: 0.6771134916039374\n",
      "MSE: 0.32288650839606253\n",
      "\n"
     ]
    },
    {
     "name": "stderr",
     "output_type": "stream",
     "text": [
      "C:\\Users\\alexw\\anaconda3\\lib\\site-packages\\sklearn\\dummy.py:132: FutureWarning: The default value of strategy will change from stratified to prior in 0.24.\n",
      "  \"stratified to prior in 0.24.\", FutureWarning)\n"
     ]
    }
   ],
   "source": [
    "from sklearn.dummy import DummyClassifier\n",
    "dummy = DummyClassifier()\n",
    "dummy.fit(X_test, y_test)\n",
    "pred = dummy.predict(X_test)\n",
    "print(\"\"\"\n",
    "Acc: {}\n",
    "MSE: {}\n",
    "\"\"\".format(acc(y_test, pred), mse(y_test, pred)))"
   ]
  },
  {
   "cell_type": "code",
   "execution_count": null,
   "metadata": {},
   "outputs": [],
   "source": []
  }
 ],
 "metadata": {
  "kernelspec": {
   "display_name": "Python 3",
   "language": "python",
   "name": "python3"
  },
  "language_info": {
   "codemirror_mode": {
    "name": "ipython",
    "version": 3
   },
   "file_extension": ".py",
   "mimetype": "text/x-python",
   "name": "python",
   "nbconvert_exporter": "python",
   "pygments_lexer": "ipython3",
   "version": "3.7.7"
  }
 },
 "nbformat": 4,
 "nbformat_minor": 4
}
